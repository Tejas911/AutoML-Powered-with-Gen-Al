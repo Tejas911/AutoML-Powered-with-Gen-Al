{
 "cells": [
  {
   "cell_type": "code",
   "execution_count": 3,
   "id": "17adaff8-23c0-4f38-92ac-965aa302f9aa",
   "metadata": {},
   "outputs": [],
   "source": [
    "import pandas as pd "
   ]
  },
  {
   "cell_type": "code",
   "execution_count": 4,
   "id": "cd6bb259",
   "metadata": {},
   "outputs": [],
   "source": [
    "# NOTE : IF your model is of regression then run this cell\n",
    "from pycaret.regression import load_model"
   ]
  },
  {
   "cell_type": "code",
   "execution_count": 5,
   "id": "24c8fd73",
   "metadata": {},
   "outputs": [],
   "source": [
    "# NOTE : IF your model is of classification then run this cell\n",
    "from pycaret.classification import load_model"
   ]
  },
  {
   "cell_type": "code",
   "execution_count": null,
   "id": "c7585c30-50d9-4c1e-af78-c07334909b84",
   "metadata": {},
   "outputs": [],
   "source": [
    "model = load_model(r'best_model') # Add model name"
   ]
  },
  {
   "cell_type": "code",
   "execution_count": null,
   "id": "0062b07b-8297-4c66-b241-1f902e895266",
   "metadata": {},
   "outputs": [],
   "source": [
    "model"
   ]
  },
  {
   "cell_type": "code",
   "execution_count": 17,
   "id": "47cda6d1-5771-4db2-b8ff-1d5e77047068",
   "metadata": {},
   "outputs": [],
   "source": [
    "TARGET = r\"\"\n",
    "df = pd.read_csv(r\"\")   # Add name of csv file to read data\n",
    "x = df.drop([TARGET],axis=1)    # uncomment if you have target in the dataframe\n"
   ]
  },
  {
   "cell_type": "code",
   "execution_count": null,
   "id": "a255d0a6",
   "metadata": {},
   "outputs": [],
   "source": [
    "# ONLY FOR CLF MODELs\n",
    "\n",
    "# Access class names from the trained model\n",
    "class_names = model.classes_\n",
    "\n",
    "# If x is a DataFrame with a single column\n",
    "names = df[TARGET].unique()  # Use the actual column name\n",
    "\n",
    "# Print both\n",
    "print(\"Class names from the model:\", class_names)\n",
    "print(\"Unique class names from the dataset:\", names)\n"
   ]
  },
  {
   "cell_type": "code",
   "execution_count": null,
   "id": "b3d8291b",
   "metadata": {},
   "outputs": [],
   "source": [
    "# x i.e Input for the prediction must be always a DataFrame as the feature transformationneeds the feature name\n",
    "model.predict(x)\n"
   ]
  }
 ],
 "metadata": {
  "kernelspec": {
   "display_name": "Python 3",
   "language": "python",
   "name": "python3"
  },
  "language_info": {
   "codemirror_mode": {
    "name": "ipython",
    "version": 3
   },
   "file_extension": ".py",
   "mimetype": "text/x-python",
   "name": "python",
   "nbconvert_exporter": "python",
   "pygments_lexer": "ipython3",
   "version": "3.11.2"
  }
 },
 "nbformat": 4,
 "nbformat_minor": 5
}
